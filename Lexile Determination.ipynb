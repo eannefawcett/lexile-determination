{
 "cells": [
  {
   "cell_type": "markdown",
   "metadata": {},
   "source": [
    "# References"
   ]
  },
  {
   "cell_type": "markdown",
   "metadata": {},
   "source": [
    "- http://allselenium.info/working-with-checkboxes-using-python-selenium-webdriver/ \n",
    "- https://selenium-python.readthedocs.io/"
   ]
  },
  {
   "cell_type": "code",
   "execution_count": 1,
   "metadata": {},
   "outputs": [],
   "source": [
    "import pandas as pd\n",
    "from selenium import webdriver\n",
    "from selenium.webdriver.common.keys import Keys\n",
    "import time\n",
    "from math import floor"
   ]
  },
  {
   "cell_type": "code",
   "execution_count": 2,
   "metadata": {},
   "outputs": [
    {
     "data": {
      "text/html": [
       "<div>\n",
       "<style scoped>\n",
       "    .dataframe tbody tr th:only-of-type {\n",
       "        vertical-align: middle;\n",
       "    }\n",
       "\n",
       "    .dataframe tbody tr th {\n",
       "        vertical-align: top;\n",
       "    }\n",
       "\n",
       "    .dataframe thead th {\n",
       "        text-align: right;\n",
       "    }\n",
       "</style>\n",
       "<table border=\"1\" class=\"dataframe\">\n",
       "  <thead>\n",
       "    <tr style=\"text-align: right;\">\n",
       "      <th></th>\n",
       "      <th>GRADE</th>\n",
       "      <th>50th</th>\n",
       "      <th>90th</th>\n",
       "    </tr>\n",
       "  </thead>\n",
       "  <tbody>\n",
       "    <tr>\n",
       "      <td>0</td>\n",
       "      <td>K</td>\n",
       "      <td>BR160L</td>\n",
       "      <td>150L</td>\n",
       "    </tr>\n",
       "    <tr>\n",
       "      <td>1</td>\n",
       "      <td>1</td>\n",
       "      <td>165L</td>\n",
       "      <td>570L</td>\n",
       "    </tr>\n",
       "    <tr>\n",
       "      <td>2</td>\n",
       "      <td>2</td>\n",
       "      <td>425L</td>\n",
       "      <td>795L</td>\n",
       "    </tr>\n",
       "    <tr>\n",
       "      <td>3</td>\n",
       "      <td>3</td>\n",
       "      <td>645L</td>\n",
       "      <td>985L</td>\n",
       "    </tr>\n",
       "    <tr>\n",
       "      <td>4</td>\n",
       "      <td>4</td>\n",
       "      <td>850L</td>\n",
       "      <td>1160L</td>\n",
       "    </tr>\n",
       "    <tr>\n",
       "      <td>5</td>\n",
       "      <td>5</td>\n",
       "      <td>950L</td>\n",
       "      <td>1260L</td>\n",
       "    </tr>\n",
       "    <tr>\n",
       "      <td>6</td>\n",
       "      <td>6</td>\n",
       "      <td>1030L</td>\n",
       "      <td>1340L</td>\n",
       "    </tr>\n",
       "    <tr>\n",
       "      <td>7</td>\n",
       "      <td>7</td>\n",
       "      <td>1095L</td>\n",
       "      <td>1410L</td>\n",
       "    </tr>\n",
       "    <tr>\n",
       "      <td>8</td>\n",
       "      <td>8</td>\n",
       "      <td>1155L</td>\n",
       "      <td>1470L</td>\n",
       "    </tr>\n",
       "    <tr>\n",
       "      <td>9</td>\n",
       "      <td>9</td>\n",
       "      <td>1205L</td>\n",
       "      <td>1520L</td>\n",
       "    </tr>\n",
       "    <tr>\n",
       "      <td>10</td>\n",
       "      <td>10</td>\n",
       "      <td>1250L</td>\n",
       "      <td>1570L</td>\n",
       "    </tr>\n",
       "    <tr>\n",
       "      <td>11</td>\n",
       "      <td>11</td>\n",
       "      <td>1295L</td>\n",
       "      <td>1610L</td>\n",
       "    </tr>\n",
       "    <tr>\n",
       "      <td>12</td>\n",
       "      <td>12</td>\n",
       "      <td>1295L</td>\n",
       "      <td>1610L</td>\n",
       "    </tr>\n",
       "  </tbody>\n",
       "</table>\n",
       "</div>"
      ],
      "text/plain": [
       "   GRADE    50th   90th\n",
       "0      K  BR160L   150L\n",
       "1      1    165L   570L\n",
       "2      2    425L   795L\n",
       "3      3    645L   985L\n",
       "4      4    850L  1160L\n",
       "5      5    950L  1260L\n",
       "6      6   1030L  1340L\n",
       "7      7   1095L  1410L\n",
       "8      8   1155L  1470L\n",
       "9      9   1205L  1520L\n",
       "10    10   1250L  1570L\n",
       "11    11   1295L  1610L\n",
       "12    12   1295L  1610L"
      ]
     },
     "execution_count": 2,
     "metadata": {},
     "output_type": "execute_result"
    }
   ],
   "source": [
    "grade_df = pd.read_csv('Lexile levels by grade.csv')\n",
    "grade_df"
   ]
  },
  {
   "cell_type": "code",
   "execution_count": 3,
   "metadata": {},
   "outputs": [],
   "source": [
    "driver = webdriver.Firefox()\n",
    "driver.get(\"https://hub.lexile.com/find-a-book/search\")"
   ]
  },
  {
   "cell_type": "code",
   "execution_count": 4,
   "metadata": {},
   "outputs": [
    {
     "name": "stdout",
     "output_type": "stream",
     "text": [
      "Analytics Checkbox deselected.\n"
     ]
    }
   ],
   "source": [
    "time.sleep(1)\n",
    "analytics = driver.find_element_by_xpath('//label[@for=\"checkbox_1\"]')\n",
    "time.sleep(5)\n",
    "result = analytics.is_selected()\n",
    "if result:\n",
    "    print('Checkbox already selected')\n",
    "else:\n",
    "    analytics.click()\n",
    "    print('Analytics Checkbox deselected.')\n",
    "    time.sleep(1)\n",
    "save_analytics_button = driver.find_element_by_xpath('//button[text()=\"Save Preferences\"]')\n",
    "save_analytics_button.click()\n",
    "time.sleep(2)"
   ]
  },
  {
   "cell_type": "code",
   "execution_count": 5,
   "metadata": {},
   "outputs": [],
   "source": [
    "search_bar = driver.find_element_by_xpath('//input[@name=\"lexileMeasure\"]')\n",
    "search_bar.send_keys(grade_df.iloc[2,1])\n",
    "time.sleep(1)\n",
    "search_button = driver.find_element_by_xpath('//button[text()=\"Search\"]')\n",
    "search_button.click()"
   ]
  },
  {
   "cell_type": "code",
   "execution_count": 13,
   "metadata": {},
   "outputs": [
    {
     "name": "stdout",
     "output_type": "stream",
     "text": [
      "Award Winning Checkbox selected.\n"
     ]
    }
   ],
   "source": [
    "time.sleep(1)\n",
    "award_filter = driver.find_element_by_xpath('//label[@style=\"\"]')\n",
    "time.sleep(5)\n",
    "result = award_filter.is_selected()\n",
    "if result:\n",
    "    print('Checkbox already selected')\n",
    "else:\n",
    "    award_filter.click()\n",
    "    print('Award Winning Checkbox selected.')\n",
    "time.sleep(1)\n",
    "filters_button = driver.find_element_by_xpath('//button[text()=\"Apply Filters\"]')\n",
    "filters_button.click()"
   ]
  },
  {
   "cell_type": "code",
   "execution_count": 7,
   "metadata": {},
   "outputs": [],
   "source": [
    "from math import floor\n",
    "more_books_button = driver.find_element_by_xpath('//button[text()=\"See 25 more books\"]')\n",
    "num_of_clicks = driver.find_element_by_class_name('search-results').text\n",
    "num_pages = (int(num_of_clicks.split(': ')[1].split('books')[0]) / 25)\n",
    "for x in range(0, floor(num_pages)):\n",
    "    time.sleep(2)\n",
    "    more_books_button.click()"
   ]
  },
  {
   "cell_type": "code",
   "execution_count": 8,
   "metadata": {},
   "outputs": [
    {
     "name": "stdout",
     "output_type": "stream",
     "text": [
      "Finding books\n",
      "Finding authors\n",
      "Finding levels\n"
     ]
    }
   ],
   "source": [
    "print('Finding books')\n",
    "time.sleep(5)\n",
    "titles = driver.find_elements_by_xpath('//*[@data-testid=\"book-title\"]')\n",
    "book_titles = []\n",
    "for result in titles:\n",
    "    book_titles.append(result.text)\n",
    "print('Finding authors')\n",
    "time.sleep(5)\n",
    "authors = driver.find_elements_by_xpath('//*[@data-testid=\"book-authors\"]')\n",
    "book_authors = []\n",
    "for result in authors:\n",
    "    book_authors.append(result.text)\n",
    "print('Finding levels')\n",
    "time.sleep(5)\n",
    "levels = driver.find_elements_by_class_name('giZmXO')\n",
    "lexile_levels = []\n",
    "for result in levels:\n",
    "    lexile_levels.append(result.text)"
   ]
  },
  {
   "cell_type": "code",
   "execution_count": 9,
   "metadata": {},
   "outputs": [],
   "source": [
    "books.append(book_titles)\n",
    "authors.append(book_authors)\n",
    "lexiles.append(lexile_levels)"
   ]
  },
  {
   "cell_type": "code",
   "execution_count": 10,
   "metadata": {},
   "outputs": [],
   "source": [
    "new_search = driver.find_element_by_xpath('//button[text()=\"New Search\"]')\n",
    "new_search.click()"
   ]
  },
  {
   "cell_type": "code",
   "execution_count": 6,
   "metadata": {},
   "outputs": [],
   "source": [
    "def get_book_info(data):\n",
    "    \"\"\"This function with a lexile level passed in will acquire book names, \n",
    "    author names for those books, and specific lexile level for the books \n",
    "    listed from the website http://hub.lexile.com/find-a-book/search.\"\"\"\n",
    "    from math import floor\n",
    "    search_bar = driver.find_element_by_xpath('//input[@name=\"lexileMeasure\"]')\n",
    "    search_bar.send_keys(data)\n",
    "    time.sleep(1)\n",
    "    search_button = driver.find_element_by_xpath('//button[text()=\"Search\"]')\n",
    "    search_button.click()\n",
    "    print('Searching')\n",
    "    time.sleep(1)\n",
    "    element = driver.find_element_by_name(\"interests\")\n",
    "    # scroll to the element\n",
    "    element.location_once_scrolled_into_view\n",
    "    award_filter = element.find_element_by_xpath('//input[@value=\"award_winning\"]')\n",
    "    time.sleep(5)\n",
    "    result = award_filter.is_selected()\n",
    "    if result:\n",
    "        print('Checkbox already selected')\n",
    "    else:\n",
    "        award_filter.click()\n",
    "        print('Award Winning Checkbox selected.')\n",
    "    time.sleep(1)\n",
    "    filters_button = driver.find_element_by_xpath('//button[text()=\"Apply Filters\"]')\n",
    "    filters_button.click()\n",
    "    try:\n",
    "        more_books_button = driver.find_element_by_xpath('//button[text()=\"See 25 more books\"]')\n",
    "        num_of_clicks = driver.find_element_by_class_name('search-results').text\n",
    "        num_pages = (int(num_of_clicks.split(': ')[1].split('books')[0]) / 25)\n",
    "        for x in range(0, floor(num_pages)):\n",
    "            time.sleep(2)\n",
    "            more_books_button.click()\n",
    "    except NoSuchElementException:\n",
    "        print('Finding books')\n",
    "        time.sleep(5)\n",
    "        titles = driver.find_elements_by_xpath('//*[@data-testid=\"book-title\"]')\n",
    "        book_titles = []\n",
    "        for result in titles:\n",
    "            book_titles.append(result.text)\n",
    "        print('Finding authors')\n",
    "        time.sleep(5)\n",
    "        authors = driver.find_elements_by_xpath('//*[@data-testid=\"book-authors\"]')\n",
    "        book_authors = []\n",
    "        for result in authors:\n",
    "            book_authors.append(result.text)\n",
    "        print('Finding levels')\n",
    "        time.sleep(5)\n",
    "        levels = driver.find_elements_by_class_name('giZmXO')\n",
    "        lexile_levels = []\n",
    "        for result in levels:\n",
    "            lexile_levels.append(result.text)\n",
    "        return book_titles, book_authors, lexile_levels\n",
    "    print('Finding books')\n",
    "    time.sleep(5)\n",
    "    titles = driver.find_elements_by_xpath('//*[@data-testid=\"book-title\"]')\n",
    "    book_titles = []\n",
    "    for result in titles:\n",
    "        book_titles.append(result.text)\n",
    "    print('Finding authors')\n",
    "    time.sleep(5)\n",
    "    authors = driver.find_elements_by_xpath('//*[@data-testid=\"book-authors\"]')\n",
    "    book_authors = []\n",
    "    for result in authors:\n",
    "        book_authors.append(result.text)\n",
    "    print('Finding levels')\n",
    "    time.sleep(5)\n",
    "    levels = driver.find_elements_by_class_name('giZmXO')\n",
    "    lexile_levels = []\n",
    "    for result in levels:\n",
    "        lexile_levels.append(result.text)\n",
    "    return book_titles, book_authors, lexile_levels"
   ]
  },
  {
   "cell_type": "code",
   "execution_count": 7,
   "metadata": {},
   "outputs": [
    {
     "name": "stdout",
     "output_type": "stream",
     "text": [
      "Searching\n"
     ]
    },
    {
     "ename": "ElementNotInteractableException",
     "evalue": "Message: Element <input id=\"checkbox_34\" class=\"sc-gzVnrw iKVurb\" name=\"interests\" type=\"checkbox\"> could not be scrolled into view\n",
     "output_type": "error",
     "traceback": [
      "\u001b[1;31m---------------------------------------------------------------------------\u001b[0m",
      "\u001b[1;31mElementNotInteractableException\u001b[0m           Traceback (most recent call last)",
      "\u001b[1;32m<ipython-input-7-f18ddebb5d6f>\u001b[0m in \u001b[0;36m<module>\u001b[1;34m\u001b[0m\n\u001b[0;32m      3\u001b[0m \u001b[0mlexiles\u001b[0m \u001b[1;33m=\u001b[0m \u001b[1;33m[\u001b[0m\u001b[1;33m]\u001b[0m\u001b[1;33m\u001b[0m\u001b[1;33m\u001b[0m\u001b[0m\n\u001b[0;32m      4\u001b[0m \u001b[1;32mfor\u001b[0m \u001b[0mx\u001b[0m \u001b[1;32min\u001b[0m \u001b[0mrange\u001b[0m\u001b[1;33m(\u001b[0m\u001b[1;36m2\u001b[0m\u001b[1;33m,\u001b[0m \u001b[0mlen\u001b[0m\u001b[1;33m(\u001b[0m\u001b[0mgrade_df\u001b[0m\u001b[1;33m[\u001b[0m\u001b[1;34m'50th'\u001b[0m\u001b[1;33m]\u001b[0m\u001b[1;33m)\u001b[0m\u001b[1;33m)\u001b[0m\u001b[1;33m:\u001b[0m\u001b[1;33m\u001b[0m\u001b[1;33m\u001b[0m\u001b[0m\n\u001b[1;32m----> 5\u001b[1;33m     \u001b[0mbook_titles\u001b[0m\u001b[1;33m,\u001b[0m \u001b[0mbook_authors\u001b[0m\u001b[1;33m,\u001b[0m \u001b[0mlexile_levels\u001b[0m \u001b[1;33m=\u001b[0m \u001b[0mget_book_info\u001b[0m\u001b[1;33m(\u001b[0m\u001b[0mgrade_df\u001b[0m\u001b[1;33m.\u001b[0m\u001b[0miloc\u001b[0m\u001b[1;33m[\u001b[0m\u001b[0mx\u001b[0m\u001b[1;33m,\u001b[0m\u001b[1;36m1\u001b[0m\u001b[1;33m]\u001b[0m\u001b[1;33m)\u001b[0m\u001b[1;33m\u001b[0m\u001b[1;33m\u001b[0m\u001b[0m\n\u001b[0m\u001b[0;32m      6\u001b[0m     \u001b[0mbooks\u001b[0m\u001b[1;33m.\u001b[0m\u001b[0mappend\u001b[0m\u001b[1;33m(\u001b[0m\u001b[0mbook_titles\u001b[0m\u001b[1;33m)\u001b[0m\u001b[1;33m\u001b[0m\u001b[1;33m\u001b[0m\u001b[0m\n\u001b[0;32m      7\u001b[0m     \u001b[0mauthors\u001b[0m\u001b[1;33m.\u001b[0m\u001b[0mappend\u001b[0m\u001b[1;33m(\u001b[0m\u001b[0mbook_authors\u001b[0m\u001b[1;33m)\u001b[0m\u001b[1;33m\u001b[0m\u001b[1;33m\u001b[0m\u001b[0m\n",
      "\u001b[1;32m<ipython-input-6-9b3aa5a85964>\u001b[0m in \u001b[0;36mget_book_info\u001b[1;34m(data)\u001b[0m\n\u001b[0;32m     20\u001b[0m         \u001b[0mprint\u001b[0m\u001b[1;33m(\u001b[0m\u001b[1;34m'Checkbox already selected'\u001b[0m\u001b[1;33m)\u001b[0m\u001b[1;33m\u001b[0m\u001b[1;33m\u001b[0m\u001b[0m\n\u001b[0;32m     21\u001b[0m     \u001b[1;32melse\u001b[0m\u001b[1;33m:\u001b[0m\u001b[1;33m\u001b[0m\u001b[1;33m\u001b[0m\u001b[0m\n\u001b[1;32m---> 22\u001b[1;33m         \u001b[0maward_filter\u001b[0m\u001b[1;33m.\u001b[0m\u001b[0mclick\u001b[0m\u001b[1;33m(\u001b[0m\u001b[1;33m)\u001b[0m\u001b[1;33m\u001b[0m\u001b[1;33m\u001b[0m\u001b[0m\n\u001b[0m\u001b[0;32m     23\u001b[0m         \u001b[0mprint\u001b[0m\u001b[1;33m(\u001b[0m\u001b[1;34m'Award Winning Checkbox selected.'\u001b[0m\u001b[1;33m)\u001b[0m\u001b[1;33m\u001b[0m\u001b[1;33m\u001b[0m\u001b[0m\n\u001b[0;32m     24\u001b[0m     \u001b[0mtime\u001b[0m\u001b[1;33m.\u001b[0m\u001b[0msleep\u001b[0m\u001b[1;33m(\u001b[0m\u001b[1;36m1\u001b[0m\u001b[1;33m)\u001b[0m\u001b[1;33m\u001b[0m\u001b[1;33m\u001b[0m\u001b[0m\n",
      "\u001b[1;32m~\\Anaconda3\\envs\\learn-env\\lib\\site-packages\\selenium\\webdriver\\remote\\webelement.py\u001b[0m in \u001b[0;36mclick\u001b[1;34m(self)\u001b[0m\n\u001b[0;32m     78\u001b[0m     \u001b[1;32mdef\u001b[0m \u001b[0mclick\u001b[0m\u001b[1;33m(\u001b[0m\u001b[0mself\u001b[0m\u001b[1;33m)\u001b[0m\u001b[1;33m:\u001b[0m\u001b[1;33m\u001b[0m\u001b[1;33m\u001b[0m\u001b[0m\n\u001b[0;32m     79\u001b[0m         \u001b[1;34m\"\"\"Clicks the element.\"\"\"\u001b[0m\u001b[1;33m\u001b[0m\u001b[1;33m\u001b[0m\u001b[0m\n\u001b[1;32m---> 80\u001b[1;33m         \u001b[0mself\u001b[0m\u001b[1;33m.\u001b[0m\u001b[0m_execute\u001b[0m\u001b[1;33m(\u001b[0m\u001b[0mCommand\u001b[0m\u001b[1;33m.\u001b[0m\u001b[0mCLICK_ELEMENT\u001b[0m\u001b[1;33m)\u001b[0m\u001b[1;33m\u001b[0m\u001b[1;33m\u001b[0m\u001b[0m\n\u001b[0m\u001b[0;32m     81\u001b[0m \u001b[1;33m\u001b[0m\u001b[0m\n\u001b[0;32m     82\u001b[0m     \u001b[1;32mdef\u001b[0m \u001b[0msubmit\u001b[0m\u001b[1;33m(\u001b[0m\u001b[0mself\u001b[0m\u001b[1;33m)\u001b[0m\u001b[1;33m:\u001b[0m\u001b[1;33m\u001b[0m\u001b[1;33m\u001b[0m\u001b[0m\n",
      "\u001b[1;32m~\\Anaconda3\\envs\\learn-env\\lib\\site-packages\\selenium\\webdriver\\remote\\webelement.py\u001b[0m in \u001b[0;36m_execute\u001b[1;34m(self, command, params)\u001b[0m\n\u001b[0;32m    631\u001b[0m             \u001b[0mparams\u001b[0m \u001b[1;33m=\u001b[0m \u001b[1;33m{\u001b[0m\u001b[1;33m}\u001b[0m\u001b[1;33m\u001b[0m\u001b[1;33m\u001b[0m\u001b[0m\n\u001b[0;32m    632\u001b[0m         \u001b[0mparams\u001b[0m\u001b[1;33m[\u001b[0m\u001b[1;34m'id'\u001b[0m\u001b[1;33m]\u001b[0m \u001b[1;33m=\u001b[0m \u001b[0mself\u001b[0m\u001b[1;33m.\u001b[0m\u001b[0m_id\u001b[0m\u001b[1;33m\u001b[0m\u001b[1;33m\u001b[0m\u001b[0m\n\u001b[1;32m--> 633\u001b[1;33m         \u001b[1;32mreturn\u001b[0m \u001b[0mself\u001b[0m\u001b[1;33m.\u001b[0m\u001b[0m_parent\u001b[0m\u001b[1;33m.\u001b[0m\u001b[0mexecute\u001b[0m\u001b[1;33m(\u001b[0m\u001b[0mcommand\u001b[0m\u001b[1;33m,\u001b[0m \u001b[0mparams\u001b[0m\u001b[1;33m)\u001b[0m\u001b[1;33m\u001b[0m\u001b[1;33m\u001b[0m\u001b[0m\n\u001b[0m\u001b[0;32m    634\u001b[0m \u001b[1;33m\u001b[0m\u001b[0m\n\u001b[0;32m    635\u001b[0m     \u001b[1;32mdef\u001b[0m \u001b[0mfind_element\u001b[0m\u001b[1;33m(\u001b[0m\u001b[0mself\u001b[0m\u001b[1;33m,\u001b[0m \u001b[0mby\u001b[0m\u001b[1;33m=\u001b[0m\u001b[0mBy\u001b[0m\u001b[1;33m.\u001b[0m\u001b[0mID\u001b[0m\u001b[1;33m,\u001b[0m \u001b[0mvalue\u001b[0m\u001b[1;33m=\u001b[0m\u001b[1;32mNone\u001b[0m\u001b[1;33m)\u001b[0m\u001b[1;33m:\u001b[0m\u001b[1;33m\u001b[0m\u001b[1;33m\u001b[0m\u001b[0m\n",
      "\u001b[1;32m~\\Anaconda3\\envs\\learn-env\\lib\\site-packages\\selenium\\webdriver\\remote\\webdriver.py\u001b[0m in \u001b[0;36mexecute\u001b[1;34m(self, driver_command, params)\u001b[0m\n\u001b[0;32m    319\u001b[0m         \u001b[0mresponse\u001b[0m \u001b[1;33m=\u001b[0m \u001b[0mself\u001b[0m\u001b[1;33m.\u001b[0m\u001b[0mcommand_executor\u001b[0m\u001b[1;33m.\u001b[0m\u001b[0mexecute\u001b[0m\u001b[1;33m(\u001b[0m\u001b[0mdriver_command\u001b[0m\u001b[1;33m,\u001b[0m \u001b[0mparams\u001b[0m\u001b[1;33m)\u001b[0m\u001b[1;33m\u001b[0m\u001b[1;33m\u001b[0m\u001b[0m\n\u001b[0;32m    320\u001b[0m         \u001b[1;32mif\u001b[0m \u001b[0mresponse\u001b[0m\u001b[1;33m:\u001b[0m\u001b[1;33m\u001b[0m\u001b[1;33m\u001b[0m\u001b[0m\n\u001b[1;32m--> 321\u001b[1;33m             \u001b[0mself\u001b[0m\u001b[1;33m.\u001b[0m\u001b[0merror_handler\u001b[0m\u001b[1;33m.\u001b[0m\u001b[0mcheck_response\u001b[0m\u001b[1;33m(\u001b[0m\u001b[0mresponse\u001b[0m\u001b[1;33m)\u001b[0m\u001b[1;33m\u001b[0m\u001b[1;33m\u001b[0m\u001b[0m\n\u001b[0m\u001b[0;32m    322\u001b[0m             response['value'] = self._unwrap_value(\n\u001b[0;32m    323\u001b[0m                 response.get('value', None))\n",
      "\u001b[1;32m~\\Anaconda3\\envs\\learn-env\\lib\\site-packages\\selenium\\webdriver\\remote\\errorhandler.py\u001b[0m in \u001b[0;36mcheck_response\u001b[1;34m(self, response)\u001b[0m\n\u001b[0;32m    240\u001b[0m                 \u001b[0malert_text\u001b[0m \u001b[1;33m=\u001b[0m \u001b[0mvalue\u001b[0m\u001b[1;33m[\u001b[0m\u001b[1;34m'alert'\u001b[0m\u001b[1;33m]\u001b[0m\u001b[1;33m.\u001b[0m\u001b[0mget\u001b[0m\u001b[1;33m(\u001b[0m\u001b[1;34m'text'\u001b[0m\u001b[1;33m)\u001b[0m\u001b[1;33m\u001b[0m\u001b[1;33m\u001b[0m\u001b[0m\n\u001b[0;32m    241\u001b[0m             \u001b[1;32mraise\u001b[0m \u001b[0mexception_class\u001b[0m\u001b[1;33m(\u001b[0m\u001b[0mmessage\u001b[0m\u001b[1;33m,\u001b[0m \u001b[0mscreen\u001b[0m\u001b[1;33m,\u001b[0m \u001b[0mstacktrace\u001b[0m\u001b[1;33m,\u001b[0m \u001b[0malert_text\u001b[0m\u001b[1;33m)\u001b[0m\u001b[1;33m\u001b[0m\u001b[1;33m\u001b[0m\u001b[0m\n\u001b[1;32m--> 242\u001b[1;33m         \u001b[1;32mraise\u001b[0m \u001b[0mexception_class\u001b[0m\u001b[1;33m(\u001b[0m\u001b[0mmessage\u001b[0m\u001b[1;33m,\u001b[0m \u001b[0mscreen\u001b[0m\u001b[1;33m,\u001b[0m \u001b[0mstacktrace\u001b[0m\u001b[1;33m)\u001b[0m\u001b[1;33m\u001b[0m\u001b[1;33m\u001b[0m\u001b[0m\n\u001b[0m\u001b[0;32m    243\u001b[0m \u001b[1;33m\u001b[0m\u001b[0m\n\u001b[0;32m    244\u001b[0m     \u001b[1;32mdef\u001b[0m \u001b[0m_value_or_default\u001b[0m\u001b[1;33m(\u001b[0m\u001b[0mself\u001b[0m\u001b[1;33m,\u001b[0m \u001b[0mobj\u001b[0m\u001b[1;33m,\u001b[0m \u001b[0mkey\u001b[0m\u001b[1;33m,\u001b[0m \u001b[0mdefault\u001b[0m\u001b[1;33m)\u001b[0m\u001b[1;33m:\u001b[0m\u001b[1;33m\u001b[0m\u001b[1;33m\u001b[0m\u001b[0m\n",
      "\u001b[1;31mElementNotInteractableException\u001b[0m: Message: Element <input id=\"checkbox_34\" class=\"sc-gzVnrw iKVurb\" name=\"interests\" type=\"checkbox\"> could not be scrolled into view\n"
     ]
    }
   ],
   "source": [
    "books = []\n",
    "authors = []\n",
    "lexiles = []\n",
    "for x in range(2, len(grade_df['50th'])):\n",
    "    book_titles, book_authors, lexile_levels = get_book_info(grade_df.iloc[x,1])\n",
    "    books.append(book_titles)\n",
    "    authors.append(book_authors)\n",
    "    lexiles.append(lexile_levels)\n",
    "    new_search = driver.find_element_by_xpath('//button[text()=\"New Search\"]')\n",
    "    new_search.click()"
   ]
  },
  {
   "cell_type": "code",
   "execution_count": null,
   "metadata": {},
   "outputs": [],
   "source": []
  }
 ],
 "metadata": {
  "kernelspec": {
   "display_name": "learn-env",
   "language": "python",
   "name": "learn-env"
  },
  "language_info": {
   "codemirror_mode": {
    "name": "ipython",
    "version": 3
   },
   "file_extension": ".py",
   "mimetype": "text/x-python",
   "name": "python",
   "nbconvert_exporter": "python",
   "pygments_lexer": "ipython3",
   "version": "3.6.9"
  }
 },
 "nbformat": 4,
 "nbformat_minor": 2
}
